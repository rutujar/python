{
 "cells": [
  {
   "cell_type": "code",
   "execution_count": 2,
   "metadata": {},
   "outputs": [
    {
     "name": "stdout",
     "output_type": "stream",
     "text": [
      "['sky', 'temp', 'humidity', 'wind', 'water', 'forecast']\n",
      "[['sunny', 'warm', 'normal', 'strong', 'warm', 'same', 'yes'], ['sunny', 'warm', 'high', 'strong', 'warm', 'same', 'yes'], ['rainy', 'cold', 'high', 'strong', 'warm', 'change', 'no'], ['sunny', 'warm', 'high', 'strong', 'cold', 'change', 'yes']]\n",
      "initial hypothesis\n",
      "['0', '0', '0', '0', '0', '0']\n",
      "hypothesis are\n",
      "1 = ['?', '0', '0', '0', '0', '0']\n",
      "2 = ['sunny', '?', '0', '0', '0', '0']\n",
      "3 = ['sunny', '?', '0', '0', '0', '0']\n",
      "4 = ['sunny', 'warm', 'high', '?', '0', '0']\n",
      "final hypothesis\n",
      "['sunny', 'warm', 'high', '?', '0', '0']\n"
     ]
    }
   ],
   "source": [
    "import csv\n",
    "def load_csv(filename):\n",
    "    lines=csv.reader(open(filename,\"rt\"))\n",
    "    dataset=list(lines)\n",
    "    for i in range (len(dataset)):\n",
    "        dataset[i]=dataset[i]\n",
    "    return dataset\n",
    "attributes =[\"sky\",\"temp\",\"humidity\",\"wind\",\"water\",\"forecast\"]\n",
    "print(attributes)\n",
    "num_attributes=len(attributes)\n",
    "filename=\"weather.csv\"\n",
    "dataset=load_csv(filename)\n",
    "print(dataset)\n",
    "hypothesis=['0']*num_attributes\n",
    "print(\"initial hypothesis\")\n",
    "SKY={\"Sunny\":1,\"Cloudy\":0,\"rainy\":0}\n",
    "print(hypothesis)\n",
    "print(\"hypothesis are\")\n",
    "for i in range(len(dataset)):\n",
    "    target=dataset[i][-1]\n",
    "    if target==\"yes\":\n",
    "            for j in range(num_attributes):\n",
    "                if hypothesis[i]=='0':\n",
    "                    hypothesis[j]=dataset[i][j]\n",
    "                if hypothesis[j]!=dataset[i][j]:\n",
    "                    hypothesis[i]='?'\n",
    "    print(i+1,\"=\" ,hypothesis)\n",
    "print(\"final hypothesis\")\n",
    "print(hypothesis)\n"
   ]
  },
  {
   "cell_type": "code",
   "execution_count": null,
   "metadata": {},
   "outputs": [],
   "source": []
  }
 ],
 "metadata": {
  "kernelspec": {
   "display_name": "Python 3",
   "language": "python",
   "name": "python3"
  },
  "language_info": {
   "codemirror_mode": {
    "name": "ipython",
    "version": 3
   },
   "file_extension": ".py",
   "mimetype": "text/x-python",
   "name": "python",
   "nbconvert_exporter": "python",
   "pygments_lexer": "ipython3",
   "version": "3.6.6"
  }
 },
 "nbformat": 4,
 "nbformat_minor": 2
}
