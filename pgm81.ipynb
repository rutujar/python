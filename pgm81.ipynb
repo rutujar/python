{
 "cells": [
  {
   "cell_type": "code",
   "execution_count": 2,
   "metadata": {},
   "outputs": [
    {
     "name": "stdout",
     "output_type": "stream",
     "text": [
      "x[5] = [['Male' 21 15]\n",
      " ['Female' 20 16]\n",
      " ['Female' 23 16]\n",
      " ['Female' 31 17]\n",
      " ['Female' 22 17]]\n",
      "After Label encoder :  [[1 21 15]\n",
      " [0 20 16]\n",
      " [0 23 16]\n",
      " [0 31 17]\n",
      " [0 22 17]]\n",
      "EM prediction :  [4 4 4 0 4 0 2 3 0 3 0 1 2 0 2 0 2 1 0]\n",
      "K-Means prediction :  [2 2 2 1 2 4 2 0 1 0 4 3 2 4 2 4 2 3 4]\n"
     ]
    },
    {
     "data": {
      "text/plain": [
       "<matplotlib.collections.PathCollection at 0x7fa49c3e8358>"
      ]
     },
     "execution_count": 2,
     "metadata": {},
     "output_type": "execute_result"
    },
    {
     "data": {
      "image/png": "[encoded data removed]",
      "text/plain": [
       "<matplotlib.figure.Figure at 0x7fa4dc0b8b70>"
      ]
     },
     "metadata": {},
     "output_type": "display_data"
    }
   ],
   "source": [
    "import pandas as pd\n",
    "import matplotlib.pyplot as plt\n",
    "df = pd.read_csv(\"eg.csv\")\n",
    "x = df.iloc[:, 1:-1].values\n",
    "print(\"x[5] =\",x[:5]) \n",
    "from sklearn.preprocessing import LabelEncoder\n",
    "x[:, 0] = LabelEncoder().fit_transform(x[:, 0])\n",
    "print(\"After Label encoder : \", x[:5])\n",
    "from sklearn.mixture import GaussianMixture\n",
    "from sklearn.cluster import KMeans\n",
    "em_cluster = GaussianMixture(n_components = 5)\n",
    "km_cluster = KMeans(n_clusters=5)\n",
    "em_cluster.fit(x)\n",
    "km_cluster.fit(x)\n",
    "em_predictions = em_cluster.predict(x)\n",
    "km_predictions = km_cluster.predict(x)\n",
    "print(\"EM prediction : \", em_predictions)\n",
    "print(\"K-Means prediction : \", km_predictions)\n",
    "plt.scatter(x[:, 1], x[:, 2],c=em_predictions)\n",
    "plt.scatter(x[:, 1], x[:, 2],c=km_predictions)"
   ]
  },
  {
   "cell_type": "code",
   "execution_count": null,
   "metadata": {},
   "outputs": [],
   "source": []
  },
  {
   "cell_type": "code",
   "execution_count": null,
   "metadata": {},
   "outputs": [],
   "source": []
  }
 ],
 "metadata": {
  "kernelspec": {
   "display_name": "Python 3",
   "language": "python",
   "name": "python3"
  },
  "language_info": {
   "codemirror_mode": {
    "name": "ipython",
    "version": 3
   },
   "file_extension": ".py",
   "mimetype": "text/x-python",
   "name": "python",
   "nbconvert_exporter": "python",
   "pygments_lexer": "ipython3",
   "version": "3.6.6"
  }
 },
 "nbformat": 4,
 "nbformat_minor": 2
}
